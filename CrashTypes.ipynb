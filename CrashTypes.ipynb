{
 "cells": [
  {
   "cell_type": "code",
   "execution_count": 3,
   "id": "d473f1a1-2a9b-4218-a6ce-0183ed038c3e",
   "metadata": {},
   "outputs": [],
   "source": [
    "import pandas as pd\n",
    "from pathlib import Path\n",
    "import matplotlib.pyplot as plt\n",
    "import seaborn as sns\n",
    "import plotly.express as px"
   ]
  },
  {
   "cell_type": "raw",
   "id": "ac860212-5992-4465-9846-155df3175e14",
   "metadata": {},
   "source": [
    "csv_path = \"2022-2023.csv\""
   ]
  },
  {
   "cell_type": "code",
   "execution_count": 4,
   "id": "9b0a2cfd-fa18-43a3-b7ab-fda351c3ebcf",
   "metadata": {},
   "outputs": [
    {
     "ename": "NameError",
     "evalue": "name 'csv_path' is not defined",
     "output_type": "error",
     "traceback": [
      "\u001b[1;31m---------------------------------------------------------------------------\u001b[0m",
      "\u001b[1;31mNameError\u001b[0m                                 Traceback (most recent call last)",
      "Cell \u001b[1;32mIn[4], line 1\u001b[0m\n\u001b[1;32m----> 1\u001b[0m crashes_df \u001b[38;5;241m=\u001b[39m pd\u001b[38;5;241m.\u001b[39mread_csv(\u001b[43mcsv_path\u001b[49m, low_memory\u001b[38;5;241m=\u001b[39m\u001b[38;5;28;01mFalse\u001b[39;00m)\n",
      "\u001b[1;31mNameError\u001b[0m: name 'csv_path' is not defined"
     ]
    }
   ],
   "source": [
    "crashes_df = pd.read_csv(csv_path, low_memory=False)"
   ]
  },
  {
   "cell_type": "code",
   "execution_count": null,
   "id": "b3822ff8-c959-4290-9fdb-3d7b79eefbae",
   "metadata": {},
   "outputs": [],
   "source": [
    "crashes_df.dtypes"
   ]
  },
  {
   "cell_type": "code",
   "execution_count": null,
   "id": "051faf43-8bf1-46bc-851c-e20b989448e2",
   "metadata": {},
   "outputs": [],
   "source": [
    "crash_type_column = crashes_df[\"FIRST_CRASH_TYPE\"]\n",
    "crash_type_column"
   ]
  },
  {
   "cell_type": "code",
   "execution_count": null,
   "id": "8f1579a9-6f24-45b5-be7d-8b3492c1ef3e",
   "metadata": {},
   "outputs": [],
   "source": [
    "crash_type_counts = crash_type_column.value_counts()\n",
    "\n",
    "print(crash_type_counts)"
   ]
  },
  {
   "cell_type": "code",
   "execution_count": null,
   "id": "8fe77109-b114-472f-a102-2d585fc91e58",
   "metadata": {
    "scrolled": true
   },
   "outputs": [],
   "source": [
    "crash_type_counts = crash_type_column.value_counts()\n",
    "\n",
    "# Plotting the bar chart\n",
    "crash_type_counts.plot(kind='bar')\n",
    "\n",
    "# Adding title and labels\n",
    "plt.title('Crash Type Counts')\n",
    "plt.xlabel('Crash Type')\n",
    "plt.ylabel('Count')\n",
    "\n",
    "# Show the plot\n",
    "plt.show()\n"
   ]
  },
  {
   "cell_type": "code",
   "execution_count": null,
   "id": "1e275bbe-0bf2-4a6a-aa93-ed61760cbffe",
   "metadata": {},
   "outputs": [],
   "source": [
    "\n",
    "\n",
    "# Assuming crash_type_column is your Series containing crash types\n",
    "\n",
    "# Calculate crash type counts\n",
    "crash_type_counts = crash_type_column.value_counts()\n",
    "\n",
    "# Create a DataFrame with crash types and their corresponding counts\n",
    "crash_type_counts_df = pd.DataFrame({'Crash Type': crash_type_counts.index, 'Count': crash_type_counts.values})\n",
    "\n",
    "print(crash_type_counts_df)\n"
   ]
  },
  {
   "cell_type": "code",
   "execution_count": null,
   "id": "5bea4679-69fc-4de8-9e70-f2c6ed2f285e",
   "metadata": {},
   "outputs": [],
   "source": [
    "first_crash_type_damage = crashes_df[[\"FIRST_CRASH_TYPE\", \"DAMAGE\"]]\n",
    "\n",
    "# Displaying the extracted data\n",
    "print(first_crash_type_damage)"
   ]
  },
  {
   "cell_type": "code",
   "execution_count": null,
   "id": "792cdb4a-3420-49c1-bf18-18add31c1429",
   "metadata": {},
   "outputs": [],
   "source": [
    "first_crash_type_damage = crashes_df[[\"FIRST_CRASH_TYPE\", \"DAMAGE\"]]\n",
    "\n",
    "# Displaying the extracted data\n",
    "print(first_crash_type_damage)"
   ]
  },
  {
   "cell_type": "code",
   "execution_count": null,
   "id": "3fd5d1df-cce9-4f6f-8591-ecf6402691f1",
   "metadata": {},
   "outputs": [],
   "source": [
    "first_crash_type_damage.head()"
   ]
  },
  {
   "cell_type": "code",
   "execution_count": null,
   "id": "10ef0dd6-1263-4e87-a3e6-e55ee299eb54",
   "metadata": {},
   "outputs": [],
   "source": [
    "\n",
    "\n",
    "# Assuming crashes_df is your DataFrame\n",
    "\n",
    "# Extracting \"First Crash Type\" and \"Damage\" columns\n",
    "first_crash_type_damage = crashes_df[[\"FIRST_CRASH_TYPE\", \"DAMAGE\"]]\n",
    "\n",
    "# Grouping by \"Damage\" and counting occurrences\n",
    "damage_counts = first_crash_type_damage.groupby(\"DAMAGE\").size()\n",
    "\n",
    "# Sorting by damage counts in descending order\n",
    "damage_counts = damage_counts.sort_values(ascending=False)\n",
    "\n",
    "# Plotting the bar chart\n",
    "plt.figure(figsize=(10, 6))\n",
    "damage_counts.plot(kind='bar', color='skyblue')\n",
    "plt.title('Number of Crashes by Damage Type')\n",
    "plt.xlabel('Damage Type')\n",
    "plt.ylabel('Number of Crashes')\n",
    "plt.xticks(rotation=45, ha='right')\n",
    "plt.tight_layout()\n",
    "plt.show()\n"
   ]
  },
  {
   "cell_type": "code",
   "execution_count": null,
   "id": "6ada6ed1-2629-4706-ba17-f3a72c76da98",
   "metadata": {},
   "outputs": [],
   "source": [
    "\n",
    "\n",
    "\n",
    "# Grouping the data by 'First Crash Type' and calculating the mean of 'Injuries Total' for each category\n",
    "mean_injuries_per_type = crashes_df.groupby('FIRST_CRASH_TYPE')['INJURIES_TOTAL'].mean().sort_values()\n",
    "\n",
    "# Plotting the bar chart\n",
    "plt.figure(figsize=(12, 8))\n",
    "mean_injuries_per_type.plot(kind='barh', color='skyblue')\n",
    "plt.title('Average Injuries Total by First Crash Type')\n",
    "plt.xlabel('Average Injuries Total')\n",
    "plt.ylabel('First Crash Type')\n",
    "plt.grid(axis='x')\n",
    "plt.tight_layout()\n",
    "plt.show()\n",
    "\n"
   ]
  },
  {
   "cell_type": "code",
   "execution_count": null,
   "id": "692edb61-512b-4464-95a5-4550aedd5c08",
   "metadata": {},
   "outputs": [],
   "source": [
    "\n",
    "\n",
    "# Assuming crashes_df is your DataFrame\n",
    "\n",
    "# Grouping the data by 'First Crash Type' and calculating the mean of 'Injuries Total' for each category\n",
    "mean_injuries_per_type = crashes_df.groupby('FIRST_CRASH_TYPE')['INJURIES_TOTAL'].mean().sort_values().reset_index()\n",
    "\n",
    "# Plotting the bar chart using Plotly\n",
    "fig = px.bar(mean_injuries_per_type, \n",
    "             x='INJURIES_TOTAL', \n",
    "             y='FIRST_CRASH_TYPE', \n",
    "             orientation='h', \n",
    "             title='Average Injuries Total by First Crash Type',\n",
    "             labels={'INJURIES_TOTAL': 'Average Injuries Total', 'FIRST_CRASH_TYPE': 'First Crash Type'},\n",
    "             height=600,\n",
    "             width=800)\n",
    "\n",
    "fig.show()\n"
   ]
  },
  {
   "cell_type": "code",
   "execution_count": null,
   "id": "0394c558-8363-4c36-a4ac-8a8e086b4928",
   "metadata": {},
   "outputs": [],
   "source": [
    "# Assuming crashes_df is your DataFrame\n",
    "\n",
    "# Grouping the data by 'First Crash Type' and calculating the mean of 'Cost' for each category\n",
    "mean_cost_per_type = crashes_df.groupby('FIRST_CRASH_TYPE')['COST'].mean().sort_values().reset_index()\n",
    "\n",
    "# Plotting the bar chart using Plotly\n",
    "fig_cost = px.bar(mean_cost_per_type, \n",
    "                  x='COST', \n",
    "                  y='FIRST_CRASH_TYPE', \n",
    "                  orientation='h', \n",
    "                  title='Average Cost per Accident by First Crash Type',\n",
    "                  labels={'COST': 'Average Cost per Accident', 'FIRST_CRASH_TYPE': 'First Crash Type'},\n",
    "                  height=600,\n",
    "                  width=800)\n",
    "\n",
    "fig_cost.show()\n"
   ]
  },
  {
   "cell_type": "code",
   "execution_count": null,
   "id": "430f2523-54ab-43d8-92eb-9998509214ad",
   "metadata": {},
   "outputs": [],
   "source": []
  },
  {
   "cell_type": "code",
   "execution_count": null,
   "id": "8941ef56-6854-43aa-8b98-b807ffaa58bd",
   "metadata": {},
   "outputs": [],
   "source": []
  },
  {
   "cell_type": "code",
   "execution_count": null,
   "id": "e724e929-a8a8-4217-b9eb-7274cb68836a",
   "metadata": {},
   "outputs": [],
   "source": []
  }
 ],
 "metadata": {
  "kernelspec": {
   "display_name": "Python 3 (ipykernel)",
   "language": "python",
   "name": "python3"
  },
  "language_info": {
   "codemirror_mode": {
    "name": "ipython",
    "version": 3
   },
   "file_extension": ".py",
   "mimetype": "text/x-python",
   "name": "python",
   "nbconvert_exporter": "python",
   "pygments_lexer": "ipython3",
   "version": "3.9.18"
  }
 },
 "nbformat": 4,
 "nbformat_minor": 5
}
