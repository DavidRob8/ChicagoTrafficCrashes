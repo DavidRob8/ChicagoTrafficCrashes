{
 "cells": [
  {
   "cell_type": "code",
   "execution_count": 18,
   "id": "d473f1a1-2a9b-4218-a6ce-0183ed038c3e",
   "metadata": {},
   "outputs": [],
   "source": [
    "import pandas as pd\n",
    "from pathlib import Path\n",
    "import matplotlib.pyplot as plt\n",
    "import seaborn as sns\n",
    "import plotly.express as px"
   ]
  },
  {
   "cell_type": "raw",
   "id": "ac860212-5992-4465-9846-155df3175e14",
   "metadata": {},
   "source": [
    "csv_path = \"2022-2023.csv\""
   ]
  },
  {
   "cell_type": "code",
   "execution_count": 19,
   "id": "9b0a2cfd-fa18-43a3-b7ab-fda351c3ebcf",
   "metadata": {},
   "outputs": [
    {
     "ename": "NameError",
     "evalue": "name 'csv_path' is not defined",
     "output_type": "error",
     "traceback": [
      "\u001b[1;31m---------------------------------------------------------------------------\u001b[0m",
      "\u001b[1;31mNameError\u001b[0m                                 Traceback (most recent call last)",
      "Cell \u001b[1;32mIn[19], line 1\u001b[0m\n\u001b[1;32m----> 1\u001b[0m crashes_df \u001b[38;5;241m=\u001b[39m pd\u001b[38;5;241m.\u001b[39mread_csv(\u001b[43mcsv_path\u001b[49m, low_memory\u001b[38;5;241m=\u001b[39m\u001b[38;5;28;01mFalse\u001b[39;00m)\n",
      "\u001b[1;31mNameError\u001b[0m: name 'csv_path' is not defined"
     ]
    }
   ],
   "source": [
    "crashes_df = pd.read_csv(csv_path, low_memory=False)"
   ]
  },
  {
   "cell_type": "code",
   "execution_count": 20,
   "id": "b3822ff8-c959-4290-9fdb-3d7b79eefbae",
   "metadata": {},
   "outputs": [
    {
     "ename": "NameError",
     "evalue": "name 'crashes_df' is not defined",
     "output_type": "error",
     "traceback": [
      "\u001b[1;31m---------------------------------------------------------------------------\u001b[0m",
      "\u001b[1;31mNameError\u001b[0m                                 Traceback (most recent call last)",
      "Cell \u001b[1;32mIn[20], line 1\u001b[0m\n\u001b[1;32m----> 1\u001b[0m \u001b[43mcrashes_df\u001b[49m\u001b[38;5;241m.\u001b[39mdtypes\n",
      "\u001b[1;31mNameError\u001b[0m: name 'crashes_df' is not defined"
     ]
    }
   ],
   "source": [
    "crashes_df.dtypes"
   ]
  },
  {
   "cell_type": "code",
   "execution_count": 6,
   "id": "051faf43-8bf1-46bc-851c-e20b989448e2",
   "metadata": {},
   "outputs": [
    {
     "ename": "NameError",
     "evalue": "name 'crashes_df' is not defined",
     "output_type": "error",
     "traceback": [
      "\u001b[1;31m---------------------------------------------------------------------------\u001b[0m",
      "\u001b[1;31mNameError\u001b[0m                                 Traceback (most recent call last)",
      "Cell \u001b[1;32mIn[6], line 1\u001b[0m\n\u001b[1;32m----> 1\u001b[0m crash_type_column \u001b[38;5;241m=\u001b[39m \u001b[43mcrashes_df\u001b[49m[\u001b[38;5;124m\"\u001b[39m\u001b[38;5;124mFIRST_CRASH_TYPE\u001b[39m\u001b[38;5;124m\"\u001b[39m]\n\u001b[0;32m      2\u001b[0m crash_type_column\n",
      "\u001b[1;31mNameError\u001b[0m: name 'crashes_df' is not defined"
     ]
    }
   ],
   "source": [
    "crash_type_column = crashes_df[\"FIRST_CRASH_TYPE\"]\n",
    "crash_type_column"
   ]
  },
  {
   "cell_type": "code",
   "execution_count": 7,
   "id": "8f1579a9-6f24-45b5-be7d-8b3492c1ef3e",
   "metadata": {},
   "outputs": [
    {
     "ename": "NameError",
     "evalue": "name 'crash_type_column' is not defined",
     "output_type": "error",
     "traceback": [
      "\u001b[1;31m---------------------------------------------------------------------------\u001b[0m",
      "\u001b[1;31mNameError\u001b[0m                                 Traceback (most recent call last)",
      "Cell \u001b[1;32mIn[7], line 1\u001b[0m\n\u001b[1;32m----> 1\u001b[0m crash_type_counts \u001b[38;5;241m=\u001b[39m \u001b[43mcrash_type_column\u001b[49m\u001b[38;5;241m.\u001b[39mvalue_counts()\n\u001b[0;32m      3\u001b[0m \u001b[38;5;28mprint\u001b[39m(crash_type_counts)\n",
      "\u001b[1;31mNameError\u001b[0m: name 'crash_type_column' is not defined"
     ]
    }
   ],
   "source": [
    "crash_type_counts = crash_type_column.value_counts()\n",
    "\n",
    "print(crash_type_counts)"
   ]
  },
  {
   "cell_type": "code",
   "execution_count": 8,
   "id": "8fe77109-b114-472f-a102-2d585fc91e58",
   "metadata": {
    "scrolled": true
   },
   "outputs": [
    {
     "ename": "NameError",
     "evalue": "name 'crash_type_column' is not defined",
     "output_type": "error",
     "traceback": [
      "\u001b[1;31m---------------------------------------------------------------------------\u001b[0m",
      "\u001b[1;31mNameError\u001b[0m                                 Traceback (most recent call last)",
      "Cell \u001b[1;32mIn[8], line 1\u001b[0m\n\u001b[1;32m----> 1\u001b[0m crash_type_counts \u001b[38;5;241m=\u001b[39m \u001b[43mcrash_type_column\u001b[49m\u001b[38;5;241m.\u001b[39mvalue_counts()\n\u001b[0;32m      3\u001b[0m \u001b[38;5;66;03m# Plotting the bar chart\u001b[39;00m\n\u001b[0;32m      4\u001b[0m crash_type_counts\u001b[38;5;241m.\u001b[39mplot(kind\u001b[38;5;241m=\u001b[39m\u001b[38;5;124m'\u001b[39m\u001b[38;5;124mbar\u001b[39m\u001b[38;5;124m'\u001b[39m)\n",
      "\u001b[1;31mNameError\u001b[0m: name 'crash_type_column' is not defined"
     ]
    }
   ],
   "source": [
    "crash_type_counts = crash_type_column.value_counts()\n",
    "\n",
    "# Plotting the bar chart\n",
    "crash_type_counts.plot(kind='bar')\n",
    "\n",
    "# Adding title and labels\n",
    "plt.title('Crash Type Counts')\n",
    "plt.xlabel('Crash Type')\n",
    "plt.ylabel('Count')\n",
    "\n",
    "# Show the plot\n",
    "plt.show()\n"
   ]
  },
  {
   "cell_type": "code",
   "execution_count": 9,
   "id": "1e275bbe-0bf2-4a6a-aa93-ed61760cbffe",
   "metadata": {},
   "outputs": [
    {
     "ename": "NameError",
     "evalue": "name 'crash_type_column' is not defined",
     "output_type": "error",
     "traceback": [
      "\u001b[1;31m---------------------------------------------------------------------------\u001b[0m",
      "\u001b[1;31mNameError\u001b[0m                                 Traceback (most recent call last)",
      "Cell \u001b[1;32mIn[9], line 4\u001b[0m\n\u001b[0;32m      1\u001b[0m \u001b[38;5;66;03m# Assuming crash_type_column is your Series containing crash types\u001b[39;00m\n\u001b[0;32m      2\u001b[0m \n\u001b[0;32m      3\u001b[0m \u001b[38;5;66;03m# Calculate crash type counts\u001b[39;00m\n\u001b[1;32m----> 4\u001b[0m crash_type_counts \u001b[38;5;241m=\u001b[39m \u001b[43mcrash_type_column\u001b[49m\u001b[38;5;241m.\u001b[39mvalue_counts()\n\u001b[0;32m      6\u001b[0m \u001b[38;5;66;03m# Create a DataFrame with crash types and their corresponding counts\u001b[39;00m\n\u001b[0;32m      7\u001b[0m crash_type_counts_df \u001b[38;5;241m=\u001b[39m pd\u001b[38;5;241m.\u001b[39mDataFrame({\u001b[38;5;124m'\u001b[39m\u001b[38;5;124mCrash Type\u001b[39m\u001b[38;5;124m'\u001b[39m: crash_type_counts\u001b[38;5;241m.\u001b[39mindex, \u001b[38;5;124m'\u001b[39m\u001b[38;5;124mCount\u001b[39m\u001b[38;5;124m'\u001b[39m: crash_type_counts\u001b[38;5;241m.\u001b[39mvalues})\n",
      "\u001b[1;31mNameError\u001b[0m: name 'crash_type_column' is not defined"
     ]
    }
   ],
   "source": [
    "\n",
    "\n",
    "# Assuming crash_type_column is your Series containing crash types\n",
    "\n",
    "# Calculate crash type counts\n",
    "crash_type_counts = crash_type_column.value_counts()\n",
    "\n",
    "# Create a DataFrame with crash types and their corresponding counts\n",
    "crash_type_counts_df = pd.DataFrame({'Crash Type': crash_type_counts.index, 'Count': crash_type_counts.values})\n",
    "\n",
    "print(crash_type_counts_df)\n"
   ]
  },
  {
   "cell_type": "code",
   "execution_count": 10,
   "id": "5bea4679-69fc-4de8-9e70-f2c6ed2f285e",
   "metadata": {},
   "outputs": [
    {
     "ename": "NameError",
     "evalue": "name 'crashes_df' is not defined",
     "output_type": "error",
     "traceback": [
      "\u001b[1;31m---------------------------------------------------------------------------\u001b[0m",
      "\u001b[1;31mNameError\u001b[0m                                 Traceback (most recent call last)",
      "Cell \u001b[1;32mIn[10], line 1\u001b[0m\n\u001b[1;32m----> 1\u001b[0m first_crash_type_damage \u001b[38;5;241m=\u001b[39m \u001b[43mcrashes_df\u001b[49m[[\u001b[38;5;124m\"\u001b[39m\u001b[38;5;124mFIRST_CRASH_TYPE\u001b[39m\u001b[38;5;124m\"\u001b[39m, \u001b[38;5;124m\"\u001b[39m\u001b[38;5;124mDAMAGE\u001b[39m\u001b[38;5;124m\"\u001b[39m]]\n\u001b[0;32m      3\u001b[0m \u001b[38;5;66;03m# Displaying the extracted data\u001b[39;00m\n\u001b[0;32m      4\u001b[0m \u001b[38;5;28mprint\u001b[39m(first_crash_type_damage)\n",
      "\u001b[1;31mNameError\u001b[0m: name 'crashes_df' is not defined"
     ]
    }
   ],
   "source": [
    "first_crash_type_damage = crashes_df[[\"FIRST_CRASH_TYPE\", \"DAMAGE\"]]\n",
    "\n",
    "# Displaying the extracted data\n",
    "print(first_crash_type_damage)"
   ]
  },
  {
   "cell_type": "code",
   "execution_count": 11,
   "id": "792cdb4a-3420-49c1-bf18-18add31c1429",
   "metadata": {},
   "outputs": [
    {
     "ename": "NameError",
     "evalue": "name 'crashes_df' is not defined",
     "output_type": "error",
     "traceback": [
      "\u001b[1;31m---------------------------------------------------------------------------\u001b[0m",
      "\u001b[1;31mNameError\u001b[0m                                 Traceback (most recent call last)",
      "Cell \u001b[1;32mIn[11], line 1\u001b[0m\n\u001b[1;32m----> 1\u001b[0m first_crash_type_damage \u001b[38;5;241m=\u001b[39m \u001b[43mcrashes_df\u001b[49m[[\u001b[38;5;124m\"\u001b[39m\u001b[38;5;124mFIRST_CRASH_TYPE\u001b[39m\u001b[38;5;124m\"\u001b[39m, \u001b[38;5;124m\"\u001b[39m\u001b[38;5;124mDAMAGE\u001b[39m\u001b[38;5;124m\"\u001b[39m]]\n\u001b[0;32m      3\u001b[0m \u001b[38;5;66;03m# Displaying the extracted data\u001b[39;00m\n\u001b[0;32m      4\u001b[0m \u001b[38;5;28mprint\u001b[39m(first_crash_type_damage)\n",
      "\u001b[1;31mNameError\u001b[0m: name 'crashes_df' is not defined"
     ]
    }
   ],
   "source": [
    "first_crash_type_damage = crashes_df[[\"FIRST_CRASH_TYPE\", \"DAMAGE\"]]\n",
    "\n",
    "# Displaying the extracted data\n",
    "print(first_crash_type_damage)"
   ]
  },
  {
   "cell_type": "code",
   "execution_count": 12,
   "id": "3fd5d1df-cce9-4f6f-8591-ecf6402691f1",
   "metadata": {},
   "outputs": [
    {
     "ename": "NameError",
     "evalue": "name 'first_crash_type_damage' is not defined",
     "output_type": "error",
     "traceback": [
      "\u001b[1;31m---------------------------------------------------------------------------\u001b[0m",
      "\u001b[1;31mNameError\u001b[0m                                 Traceback (most recent call last)",
      "Cell \u001b[1;32mIn[12], line 1\u001b[0m\n\u001b[1;32m----> 1\u001b[0m \u001b[43mfirst_crash_type_damage\u001b[49m\u001b[38;5;241m.\u001b[39mhead()\n",
      "\u001b[1;31mNameError\u001b[0m: name 'first_crash_type_damage' is not defined"
     ]
    }
   ],
   "source": [
    "first_crash_type_damage.head()"
   ]
  },
  {
   "cell_type": "code",
   "execution_count": 13,
   "id": "10ef0dd6-1263-4e87-a3e6-e55ee299eb54",
   "metadata": {},
   "outputs": [
    {
     "ename": "NameError",
     "evalue": "name 'crashes_df' is not defined",
     "output_type": "error",
     "traceback": [
      "\u001b[1;31m---------------------------------------------------------------------------\u001b[0m",
      "\u001b[1;31mNameError\u001b[0m                                 Traceback (most recent call last)",
      "Cell \u001b[1;32mIn[13], line 4\u001b[0m\n\u001b[0;32m      1\u001b[0m \u001b[38;5;66;03m# Assuming crashes_df is your DataFrame\u001b[39;00m\n\u001b[0;32m      2\u001b[0m \n\u001b[0;32m      3\u001b[0m \u001b[38;5;66;03m# Extracting \"First Crash Type\" and \"Damage\" columns\u001b[39;00m\n\u001b[1;32m----> 4\u001b[0m first_crash_type_damage \u001b[38;5;241m=\u001b[39m \u001b[43mcrashes_df\u001b[49m[[\u001b[38;5;124m\"\u001b[39m\u001b[38;5;124mFIRST_CRASH_TYPE\u001b[39m\u001b[38;5;124m\"\u001b[39m, \u001b[38;5;124m\"\u001b[39m\u001b[38;5;124mDAMAGE\u001b[39m\u001b[38;5;124m\"\u001b[39m]]\n\u001b[0;32m      6\u001b[0m \u001b[38;5;66;03m# Grouping by \"Damage\" and counting occurrences\u001b[39;00m\n\u001b[0;32m      7\u001b[0m damage_counts \u001b[38;5;241m=\u001b[39m first_crash_type_damage\u001b[38;5;241m.\u001b[39mgroupby(\u001b[38;5;124m\"\u001b[39m\u001b[38;5;124mDAMAGE\u001b[39m\u001b[38;5;124m\"\u001b[39m)\u001b[38;5;241m.\u001b[39msize()\n",
      "\u001b[1;31mNameError\u001b[0m: name 'crashes_df' is not defined"
     ]
    }
   ],
   "source": [
    "\n",
    "\n",
    "# Assuming crashes_df is your DataFrame\n",
    "\n",
    "# Extracting \"First Crash Type\" and \"Damage\" columns\n",
    "first_crash_type_damage = crashes_df[[\"FIRST_CRASH_TYPE\", \"DAMAGE\"]]\n",
    "\n",
    "# Grouping by \"Damage\" and counting occurrences\n",
    "damage_counts = first_crash_type_damage.groupby(\"DAMAGE\").size()\n",
    "\n",
    "# Sorting by damage counts in descending order\n",
    "damage_counts = damage_counts.sort_values(ascending=False)\n",
    "\n",
    "# Plotting the bar chart\n",
    "plt.figure(figsize=(10, 6))\n",
    "damage_counts.plot(kind='bar', color='skyblue')\n",
    "plt.title('Number of Crashes by Damage Type')\n",
    "plt.xlabel('Damage Type')\n",
    "plt.ylabel('Number of Crashes')\n",
    "plt.xticks(rotation=45, ha='right')\n",
    "plt.tight_layout()\n",
    "plt.show()\n"
   ]
  },
  {
   "cell_type": "code",
   "execution_count": 15,
   "id": "6ada6ed1-2629-4706-ba17-f3a72c76da98",
   "metadata": {},
   "outputs": [
    {
     "ename": "NameError",
     "evalue": "name 'crashes_df' is not defined",
     "output_type": "error",
     "traceback": [
      "\u001b[1;31m---------------------------------------------------------------------------\u001b[0m",
      "\u001b[1;31mNameError\u001b[0m                                 Traceback (most recent call last)",
      "Cell \u001b[1;32mIn[15], line 2\u001b[0m\n\u001b[0;32m      1\u001b[0m \u001b[38;5;66;03m# Grouping the data by 'First Crash Type' and calculating the mean of 'Injuries Total' for each category\u001b[39;00m\n\u001b[1;32m----> 2\u001b[0m mean_injuries_per_type \u001b[38;5;241m=\u001b[39m \u001b[43mcrashes_df\u001b[49m\u001b[38;5;241m.\u001b[39mgroupby(\u001b[38;5;124m'\u001b[39m\u001b[38;5;124mFIRST_CRASH_TYPE\u001b[39m\u001b[38;5;124m'\u001b[39m)[\u001b[38;5;124m'\u001b[39m\u001b[38;5;124mINJURIES_TOTAL\u001b[39m\u001b[38;5;124m'\u001b[39m]\u001b[38;5;241m.\u001b[39mmean()\u001b[38;5;241m.\u001b[39msort_values()\n\u001b[0;32m      4\u001b[0m \u001b[38;5;66;03m# Plotting the bar chart\u001b[39;00m\n\u001b[0;32m      5\u001b[0m plt\u001b[38;5;241m.\u001b[39mfigure(figsize\u001b[38;5;241m=\u001b[39m(\u001b[38;5;241m12\u001b[39m, \u001b[38;5;241m8\u001b[39m))\n",
      "\u001b[1;31mNameError\u001b[0m: name 'crashes_df' is not defined"
     ]
    }
   ],
   "source": [
    "\n",
    "\n",
    "\n",
    "# Grouping the data by 'First Crash Type' and calculating the mean of 'Injuries Total' for each category\n",
    "mean_injuries_per_type = crashes_df.groupby('FIRST_CRASH_TYPE')['INJURIES_TOTAL'].mean().sort_values()\n",
    "\n",
    "# Plotting the bar chart\n",
    "plt.figure(figsize=(12, 8))\n",
    "mean_injuries_per_type.plot(kind='barh', color='skyblue')\n",
    "plt.title('Average Injuries Total by First Crash Type')\n",
    "plt.xlabel('Average Injuries Total')\n",
    "plt.ylabel('First Crash Type')\n",
    "plt.grid(axis='x')\n",
    "plt.tight_layout()\n",
    "plt.show()\n",
    "\n"
   ]
  },
  {
   "cell_type": "code",
   "execution_count": 16,
   "id": "692edb61-512b-4464-95a5-4550aedd5c08",
   "metadata": {},
   "outputs": [
    {
     "ename": "NameError",
     "evalue": "name 'crashes_df' is not defined",
     "output_type": "error",
     "traceback": [
      "\u001b[1;31m---------------------------------------------------------------------------\u001b[0m",
      "\u001b[1;31mNameError\u001b[0m                                 Traceback (most recent call last)",
      "Cell \u001b[1;32mIn[16], line 4\u001b[0m\n\u001b[0;32m      1\u001b[0m \u001b[38;5;66;03m# Assuming crashes_df is your DataFrame\u001b[39;00m\n\u001b[0;32m      2\u001b[0m \n\u001b[0;32m      3\u001b[0m \u001b[38;5;66;03m# Grouping the data by 'First Crash Type' and calculating the mean of 'Injuries Total' for each category\u001b[39;00m\n\u001b[1;32m----> 4\u001b[0m mean_injuries_per_type \u001b[38;5;241m=\u001b[39m \u001b[43mcrashes_df\u001b[49m\u001b[38;5;241m.\u001b[39mgroupby(\u001b[38;5;124m'\u001b[39m\u001b[38;5;124mFIRST_CRASH_TYPE\u001b[39m\u001b[38;5;124m'\u001b[39m)[\u001b[38;5;124m'\u001b[39m\u001b[38;5;124mINJURIES_TOTAL\u001b[39m\u001b[38;5;124m'\u001b[39m]\u001b[38;5;241m.\u001b[39mmean()\u001b[38;5;241m.\u001b[39msort_values()\u001b[38;5;241m.\u001b[39mreset_index()\n\u001b[0;32m      6\u001b[0m \u001b[38;5;66;03m# Plotting the bar chart using Plotly\u001b[39;00m\n\u001b[0;32m      7\u001b[0m fig \u001b[38;5;241m=\u001b[39m px\u001b[38;5;241m.\u001b[39mbar(mean_injuries_per_type, \n\u001b[0;32m      8\u001b[0m              x\u001b[38;5;241m=\u001b[39m\u001b[38;5;124m'\u001b[39m\u001b[38;5;124mINJURIES_TOTAL\u001b[39m\u001b[38;5;124m'\u001b[39m, \n\u001b[0;32m      9\u001b[0m              y\u001b[38;5;241m=\u001b[39m\u001b[38;5;124m'\u001b[39m\u001b[38;5;124mFIRST_CRASH_TYPE\u001b[39m\u001b[38;5;124m'\u001b[39m, \n\u001b[1;32m   (...)\u001b[0m\n\u001b[0;32m     13\u001b[0m              height\u001b[38;5;241m=\u001b[39m\u001b[38;5;241m600\u001b[39m,\n\u001b[0;32m     14\u001b[0m              width\u001b[38;5;241m=\u001b[39m\u001b[38;5;241m800\u001b[39m)\n",
      "\u001b[1;31mNameError\u001b[0m: name 'crashes_df' is not defined"
     ]
    }
   ],
   "source": [
    "\n",
    "\n",
    "# Assuming crashes_df is your DataFrame\n",
    "\n",
    "# Grouping the data by 'First Crash Type' and calculating the mean of 'Injuries Total' for each category\n",
    "mean_injuries_per_type = crashes_df.groupby('FIRST_CRASH_TYPE')['INJURIES_TOTAL'].mean().sort_values().reset_index()\n",
    "\n",
    "# Plotting the bar chart using Plotly\n",
    "fig = px.bar(mean_injuries_per_type, \n",
    "             x='INJURIES_TOTAL', \n",
    "             y='FIRST_CRASH_TYPE', \n",
    "             orientation='h', \n",
    "             title='Average Injuries Total by First Crash Type',\n",
    "             labels={'INJURIES_TOTAL': 'Average Injuries Total', 'FIRST_CRASH_TYPE': 'First Crash Type'},\n",
    "             height=600,\n",
    "             width=800)\n",
    "\n",
    "fig.show()\n"
   ]
  },
  {
   "cell_type": "code",
   "execution_count": 17,
   "id": "0394c558-8363-4c36-a4ac-8a8e086b4928",
   "metadata": {},
   "outputs": [
    {
     "ename": "NameError",
     "evalue": "name 'crashes_df' is not defined",
     "output_type": "error",
     "traceback": [
      "\u001b[1;31m---------------------------------------------------------------------------\u001b[0m",
      "\u001b[1;31mNameError\u001b[0m                                 Traceback (most recent call last)",
      "Cell \u001b[1;32mIn[17], line 4\u001b[0m\n\u001b[0;32m      1\u001b[0m \u001b[38;5;66;03m# Assuming crashes_df is your DataFrame\u001b[39;00m\n\u001b[0;32m      2\u001b[0m \n\u001b[0;32m      3\u001b[0m \u001b[38;5;66;03m# Grouping the data by 'First Crash Type' and calculating the mean of 'Cost' for each category\u001b[39;00m\n\u001b[1;32m----> 4\u001b[0m mean_cost_per_type \u001b[38;5;241m=\u001b[39m \u001b[43mcrashes_df\u001b[49m\u001b[38;5;241m.\u001b[39mgroupby(\u001b[38;5;124m'\u001b[39m\u001b[38;5;124mFIRST_CRASH_TYPE\u001b[39m\u001b[38;5;124m'\u001b[39m)[\u001b[38;5;124m'\u001b[39m\u001b[38;5;124mCOST\u001b[39m\u001b[38;5;124m'\u001b[39m]\u001b[38;5;241m.\u001b[39mmean()\u001b[38;5;241m.\u001b[39msort_values()\u001b[38;5;241m.\u001b[39mreset_index()\n\u001b[0;32m      6\u001b[0m \u001b[38;5;66;03m# Plotting the bar chart using Plotly\u001b[39;00m\n\u001b[0;32m      7\u001b[0m fig_cost \u001b[38;5;241m=\u001b[39m px\u001b[38;5;241m.\u001b[39mbar(mean_cost_per_type, \n\u001b[0;32m      8\u001b[0m                   x\u001b[38;5;241m=\u001b[39m\u001b[38;5;124m'\u001b[39m\u001b[38;5;124mCOST\u001b[39m\u001b[38;5;124m'\u001b[39m, \n\u001b[0;32m      9\u001b[0m                   y\u001b[38;5;241m=\u001b[39m\u001b[38;5;124m'\u001b[39m\u001b[38;5;124mFIRST_CRASH_TYPE\u001b[39m\u001b[38;5;124m'\u001b[39m, \n\u001b[1;32m   (...)\u001b[0m\n\u001b[0;32m     13\u001b[0m                   height\u001b[38;5;241m=\u001b[39m\u001b[38;5;241m600\u001b[39m,\n\u001b[0;32m     14\u001b[0m                   width\u001b[38;5;241m=\u001b[39m\u001b[38;5;241m800\u001b[39m)\n",
      "\u001b[1;31mNameError\u001b[0m: name 'crashes_df' is not defined"
     ]
    }
   ],
   "source": [
    "# Assuming crashes_df is your DataFrame\n",
    "\n",
    "# Grouping the data by 'First Crash Type' and calculating the mean of 'Cost' for each category\n",
    "mean_cost_per_type = crashes_df.groupby('FIRST_CRASH_TYPE')['COST'].mean().sort_values().reset_index()\n",
    "\n",
    "# Plotting the bar chart using Plotly\n",
    "fig_cost = px.bar(mean_cost_per_type, \n",
    "                  x='COST', \n",
    "                  y='FIRST_CRASH_TYPE', \n",
    "                  orientation='h', \n",
    "                  title='Average Cost per Accident by First Crash Type',\n",
    "                  labels={'COST': 'Average Cost per Accident', 'FIRST_CRASH_TYPE': 'First Crash Type'},\n",
    "                  height=600,\n",
    "                  width=800)\n",
    "\n",
    "fig_cost.show()\n"
   ]
  },
  {
   "cell_type": "code",
   "execution_count": null,
   "id": "430f2523-54ab-43d8-92eb-9998509214ad",
   "metadata": {},
   "outputs": [],
   "source": []
  },
  {
   "cell_type": "code",
   "execution_count": null,
   "id": "8941ef56-6854-43aa-8b98-b807ffaa58bd",
   "metadata": {},
   "outputs": [],
   "source": []
  },
  {
   "cell_type": "code",
   "execution_count": null,
   "id": "e724e929-a8a8-4217-b9eb-7274cb68836a",
   "metadata": {},
   "outputs": [],
   "source": []
  }
 ],
 "metadata": {
  "kernelspec": {
   "display_name": "Python 3 (ipykernel)",
   "language": "python",
   "name": "python3"
  },
  "language_info": {
   "codemirror_mode": {
    "name": "ipython",
    "version": 3
   },
   "file_extension": ".py",
   "mimetype": "text/x-python",
   "name": "python",
   "nbconvert_exporter": "python",
   "pygments_lexer": "ipython3",
   "version": "3.9.18"
  }
 },
 "nbformat": 4,
 "nbformat_minor": 5
}
